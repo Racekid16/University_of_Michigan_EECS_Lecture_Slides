{
  "cells": [
    {
      "cell_type": "markdown",
      "metadata": {
        "id": "-cn6yjvNnEl4"
      },
      "source": [
        "**Notebook credit**: based on the F. Chollet's original notebook [here](https://github.com/fchollet/deep-learning-with-python-notebooks/blob/master/chapter04_getting-started-with-neural-networks.ipynb)."
      ]
    },
    {
      "cell_type": "markdown",
      "metadata": {
        "id": "L5h3Un9PnEl8"
      },
      "source": [
        "## Classifying movie reviews: A binary classification example\n",
        "\n",
        "- _binary classification_ (two-class classification) is one of the most common kinds of machine learning problems\n",
        "- here you'll learn to classify IMDB movie reviews as positive or negative, based on the text content of the reviews."
      ]
    },
    {
      "cell_type": "markdown",
      "metadata": {
        "id": "6nTmQ8GanEl9"
      },
      "source": [
        "### The IMDB dataset\n",
        "\n",
        "- this dataset has 50,000 highly polarized reviews from the Internet Movie Database\n",
        "- is split into 25,000 reviews for training and 25,000 reviews for testing\n",
        "- each set consisting of 50% negative and 50% positive reviews.\n",
        "- like MNIST, the IMDB dataset comes packaged with Keras\n",
        "- it's been preprocessed: the reviews (sequences of words) have been turned into sequences of integers, where each integer stands for a specific word in a dictionary\n",
        "- this enables us to focus on model building, training, and evaluation\n",
        "- later in the course, you’ll learn how to process raw text input from scratch."
      ]
    },
    {
      "cell_type": "markdown",
      "metadata": {
        "id": "k0riwVgbnEl9"
      },
      "source": [
        "**Loading the IMDB dataset**"
      ]
    },
    {
      "cell_type": "code",
      "execution_count": null,
      "metadata": {
        "id": "ISZC2iqtnEl9",
        "colab": {
          "base_uri": "https://localhost:8080/"
        },
        "outputId": "64ae1450-939c-40d2-d07d-cbce299f8375"
      },
      "outputs": [
        {
          "output_type": "stream",
          "name": "stdout",
          "text": [
            "Downloading data from https://storage.googleapis.com/tensorflow/tf-keras-datasets/imdb.npz\n",
            "17464789/17464789 [==============================] - 0s 0us/step\n"
          ]
        }
      ],
      "source": [
        "from tensorflow.keras.datasets import imdb\n",
        "(train_data, train_labels), (test_data, test_labels) = imdb.load_data(\n",
        "    num_words=10000)"
      ]
    },
    {
      "cell_type": "markdown",
      "source": [
        "- `num_words=10000` means you'll only keep the top 10,000 most frequently occurring words in the training data\n",
        "- discarding rare words allows us to work with vectors of manageable size\n",
        "- if we didnt set this limit, we'd be working with 88,585 unique words\n",
        "- rare words only occur in a few examples, and thus can't be meaningfully used for classification\n",
        "\n",
        "**Training and test data format**\n",
        "\n",
        "- variables `train_data` and `test_data` are lists of reviews\n",
        "- each review is a list of word indices (encoding a sequence of words)\n",
        "- `train_labels` and `test_labels` are lists of 0s and 1s, where 0 stands for negative and 1 stands for positive"
      ],
      "metadata": {
        "id": "gMS4AH9wqWRT"
      }
    },
    {
      "cell_type": "code",
      "execution_count": null,
      "metadata": {
        "id": "JQ63AGZ8nEl_",
        "colab": {
          "base_uri": "https://localhost:8080/"
        },
        "outputId": "e897c9e3-068b-4071-d9de-33b928eb618e"
      },
      "outputs": [
        {
          "output_type": "stream",
          "name": "stdout",
          "text": [
            "first training example has 218 integer-encoded words\n",
            "in the first example, the first ten feature values are: [1, 14, 22, 16, 43, 530, 973, 1622, 1385, 65]\n"
          ]
        }
      ],
      "source": [
        "print(f\"first training example has {len(train_data[0])} integer-encoded words\")\n",
        "print(f\"in the first example, the first ten feature values are: {train_data[0][:10]}\")"
      ]
    },
    {
      "cell_type": "code",
      "execution_count": null,
      "metadata": {
        "id": "vSxXXVo-nEl_",
        "colab": {
          "base_uri": "https://localhost:8080/"
        },
        "outputId": "3593d8af-0b09-4dd6-be16-3198cc787599"
      },
      "outputs": [
        {
          "output_type": "execute_result",
          "data": {
            "text/plain": [
              "1"
            ]
          },
          "metadata": {},
          "execution_count": 3
        }
      ],
      "source": [
        "train_labels[0] # first review has label 1, i.e., it is positive"
      ]
    },
    {
      "cell_type": "code",
      "execution_count": null,
      "metadata": {
        "id": "Lo0JJ6uqnEmA",
        "colab": {
          "base_uri": "https://localhost:8080/"
        },
        "outputId": "b718b63a-5f64-416f-b42d-7bdc090be543"
      },
      "outputs": [
        {
          "output_type": "execute_result",
          "data": {
            "text/plain": [
              "9999"
            ]
          },
          "metadata": {},
          "execution_count": 4
        }
      ],
      "source": [
        "max([max(sequence) for sequence in train_data]) # check that word encoding integers are less than 10,000"
      ]
    },
    {
      "cell_type": "markdown",
      "metadata": {
        "id": "ZMskHvdrnEmB"
      },
      "source": [
        "**Decoding reviews back to text**"
      ]
    },
    {
      "cell_type": "code",
      "execution_count": null,
      "metadata": {
        "id": "arjxfGfanEmB",
        "colab": {
          "base_uri": "https://localhost:8080/"
        },
        "outputId": "778fe5b0-6b52-4f1d-f069-98c93bb96f8b"
      },
      "outputs": [
        {
          "output_type": "execute_result",
          "data": {
            "text/plain": [
              "[('fawn', 34701),\n",
              " ('tsukino', 52006),\n",
              " ('nunnery', 52007),\n",
              " ('sonja', 16816),\n",
              " ('vani', 63951),\n",
              " ('woods', 1408),\n",
              " ('spiders', 16115),\n",
              " ('hanging', 2345),\n",
              " ('woody', 2289),\n",
              " ('trawling', 52008)]"
            ]
          },
          "metadata": {},
          "execution_count": 7
        }
      ],
      "source": [
        "word_index = imdb.get_word_index()\n",
        "list(word_index.items())[:10]"
      ]
    },
    {
      "cell_type": "code",
      "source": [
        "reverse_word_index = dict(\n",
        "    [(value, key) for (key, value) in word_index.items()])\n",
        "list(reverse_word_index.items())[:10]"
      ],
      "metadata": {
        "colab": {
          "base_uri": "https://localhost:8080/"
        },
        "id": "rgDl48AGsg27",
        "outputId": "5fe8cbd6-3b19-4b7f-eeea-25b4974f8049"
      },
      "execution_count": null,
      "outputs": [
        {
          "output_type": "execute_result",
          "data": {
            "text/plain": [
              "[(34701, 'fawn'),\n",
              " (52006, 'tsukino'),\n",
              " (52007, 'nunnery'),\n",
              " (16816, 'sonja'),\n",
              " (63951, 'vani'),\n",
              " (1408, 'woods'),\n",
              " (16115, 'spiders'),\n",
              " (2345, 'hanging'),\n",
              " (2289, 'woody'),\n",
              " (52008, 'trawling')]"
            ]
          },
          "metadata": {},
          "execution_count": 8
        }
      ]
    },
    {
      "cell_type": "code",
      "source": [
        " # offset of 3 needed because 0, 1, and 2 are reserved indices for \"padding,\" \"start of sequence,\" and \"unknown.\"\n",
        "decoded_review = [reverse_word_index.get(i - 3, \"?\") for i in train_data[0]]\n",
        "\n",
        "print(train_data[0][:10])\n",
        "print(\" \".join(decoded_review[:10]))"
      ],
      "metadata": {
        "colab": {
          "base_uri": "https://localhost:8080/"
        },
        "id": "69mp-HJau0J7",
        "outputId": "806f1303-0225-4e0b-f408-eb1e63ef40a2"
      },
      "execution_count": null,
      "outputs": [
        {
          "output_type": "stream",
          "name": "stdout",
          "text": [
            "[1, 14, 22, 16, 43, 530, 973, 1622, 1385, 65]\n",
            "? this film was just brilliant casting location scenery story\n"
          ]
        }
      ]
    },
    {
      "cell_type": "markdown",
      "metadata": {
        "id": "HXoVMjbenEmC"
      },
      "source": [
        "### Preparing the data\n",
        "\n",
        "- can't directly feed lists of integers into NN: they all have different lengths\n",
        "- need to convert lists into tensors\n",
        "- there are two ways to do that:\n",
        "  - Pad your lists so that they all have the same length, turn them into an integer tensor of shape `(samples, max_length)`, and start your model with a layer capable of handling such integer tensors (the `Embedding` layer, which we'll cover later).\n",
        "  - *Multi-hot encode* your lists to turn them into vectors of 0s and 1s. This would mean, for instance, turning the sequence `[8, 5]` into a 10,000-dimensional vector that would be all 0s except for indices 8 and 5, which would be 1s. Then you could use a `Dense` layer, capable of handling floating-point vector data, as the first layer in your model.\n",
        "\n",
        "Let’s go with the latter solution."
      ]
    },
    {
      "cell_type": "markdown",
      "metadata": {
        "id": "qO8W8rfinEmC"
      },
      "source": [
        "**Encoding the integer sequences via multi-hot encoding**"
      ]
    },
    {
      "cell_type": "code",
      "source": [
        "len(train_data)"
      ],
      "metadata": {
        "colab": {
          "base_uri": "https://localhost:8080/"
        },
        "id": "aKvEkaWMIg59",
        "outputId": "586fbc73-acd8-47a3-c693-0c1d6302ab63"
      },
      "execution_count": null,
      "outputs": [
        {
          "output_type": "execute_result",
          "data": {
            "text/plain": [
              "25000"
            ]
          },
          "metadata": {},
          "execution_count": 11
        }
      ]
    },
    {
      "cell_type": "code",
      "execution_count": null,
      "metadata": {
        "id": "i9a4r6bXnEmC"
      },
      "outputs": [],
      "source": [
        "import numpy as np\n",
        "def vectorize_sequences(sequences, dimension=10000):\n",
        "    results = np.zeros((len(sequences), dimension)) # initialize results to an np.array with appropriate size\n",
        "    for i, sequence in enumerate(sequences):\n",
        "        for j in sequence:\n",
        "            results[i, j] = 1. # if word with index j found in sequence then set jth entry to 1 in multi-hot encoding\n",
        "    return results\n",
        "x_train = vectorize_sequences(train_data) # convert training data\n",
        "x_test = vectorize_sequences(test_data)   # convert test data"
      ]
    },
    {
      "cell_type": "code",
      "source": [
        "x_train.shape"
      ],
      "metadata": {
        "colab": {
          "base_uri": "https://localhost:8080/"
        },
        "id": "7c3nmBCrIwzK",
        "outputId": "fd9ad6f2-2106-435c-c9a8-c0a84410581e"
      },
      "execution_count": null,
      "outputs": [
        {
          "output_type": "execute_result",
          "data": {
            "text/plain": [
              "(25000, 10000)"
            ]
          },
          "metadata": {},
          "execution_count": 13
        }
      ]
    },
    {
      "cell_type": "code",
      "source": [
        "x_test.shape"
      ],
      "metadata": {
        "colab": {
          "base_uri": "https://localhost:8080/"
        },
        "id": "gVagfbiRI14I",
        "outputId": "06df9bb4-3c8b-4951-ecf8-35e9555824ae"
      },
      "execution_count": null,
      "outputs": [
        {
          "output_type": "execute_result",
          "data": {
            "text/plain": [
              "(25000, 10000)"
            ]
          },
          "metadata": {},
          "execution_count": 14
        }
      ]
    },
    {
      "cell_type": "code",
      "execution_count": null,
      "metadata": {
        "id": "Z5_y7kntnEmD",
        "colab": {
          "base_uri": "https://localhost:8080/"
        },
        "outputId": "29756160-ff21-4ff3-c7a7-c760642c6ea7"
      },
      "outputs": [
        {
          "output_type": "execute_result",
          "data": {
            "text/plain": [
              "array([1, 2, 4, 5, 6, 7, 8, 9])"
            ]
          },
          "metadata": {},
          "execution_count": 12
        }
      ],
      "source": [
        "example = np.array(train_data[0]) # list to np.array\n",
        "np.unique(example[example < 10]) # which words with index < 10 occur in this example?\n"
      ]
    },
    {
      "cell_type": "code",
      "source": [
        "x_train[0][:10] # the words that occur determine where we place ones in the multi-hot encoding"
      ],
      "metadata": {
        "colab": {
          "base_uri": "https://localhost:8080/"
        },
        "id": "aEwIPPXZdIhq",
        "outputId": "c28ddd07-7464-4677-ae9f-64588776d243"
      },
      "execution_count": null,
      "outputs": [
        {
          "output_type": "execute_result",
          "data": {
            "text/plain": [
              "array([0., 1., 1., 0., 1., 1., 1., 1., 1., 1.])"
            ]
          },
          "metadata": {},
          "execution_count": 13
        }
      ]
    },
    {
      "cell_type": "code",
      "execution_count": null,
      "metadata": {
        "id": "U2aCaQvTnEmD"
      },
      "outputs": [],
      "source": [
        "y_train = np.array(train_labels).astype(\"float32\")\n",
        "y_test = np.array(test_labels).astype(\"float32\")"
      ]
    },
    {
      "cell_type": "markdown",
      "metadata": {
        "id": "A64MSYa7nEmD"
      },
      "source": [
        "### Building your model\n",
        "\n",
        "- we will use a plain stack of densely connected (`Dense`) layers with `relu` activations\n",
        "- two key architecture decisions to be made:\n",
        "  - how many layers to use\n",
        "  - how many units to choose for each layer\n",
        "  \n",
        "Later you'll learn formal principles to guide you in making these choices. For the time being, you'll have to trust the following architecture choices:\n",
        "- two intermediate layers with 16 units each\n",
        "- a third layer that will output the scalar prediction\n",
        "\n",
        "This is what the model looks like.\n",
        "\n",
        "<img src=\"https://github.com/ambujtewari/stats315-winter2022/raw/main/images/IMDB_3_layers.png\" alt=\"picture\" height=\"300\">\n",
        "\n",
        "And note the similarity to the MNIST example you saw previously."
      ]
    },
    {
      "cell_type": "markdown",
      "metadata": {
        "id": "4PAEeV4RnEmE"
      },
      "source": [
        "**Model definition**\n",
        "\n",
        "- first argument being passed to each `Dense` layer is the number of units in the layer\n",
        "- that's the dimensionality of representation space of the layer\n",
        "- such a `Dense` layer with a `relu` activation implements the following chain of tensor operations:\n",
        "```\n",
        "output = relu(dot(input, W) + b)\n",
        "```\n",
        "- 16 units means the weight matrix `W` will have shape `(input_dimension, 16)`\n",
        "- the dot (matrix) product with `W` will project the input data onto a 16-dimensional representation space\n",
        "- Then the layer adds the bias vector `b` and applies the `relu` operation\n",
        "- dimensionality of representation = \"how much freedom you're allowing the model to have when learning internal representations\"\n",
        "- more units (a higher-dimensional representation space) means:\n",
        "  - your model can learn more-complex representations\n",
        "  - but it makes the model more computationally expensive and may lead to learning unwanted patterns (which can lead to overfitting)\n"
      ]
    },
    {
      "cell_type": "code",
      "execution_count": null,
      "metadata": {
        "id": "6ZIdyymwnEmE"
      },
      "outputs": [],
      "source": [
        "from tensorflow import keras\n",
        "from tensorflow.keras import layers\n",
        "\n",
        "model = keras.Sequential([\n",
        "    layers.Dense(16, activation=\"relu\"),\n",
        "    layers.Dense(16, activation=\"relu\"),\n",
        "    layers.Dense(1, activation=\"sigmoid\")\n",
        "])"
      ]
    },
    {
      "cell_type": "markdown",
      "source": [
        "- intermediate layers use `relu` as their activation function\n",
        "- the final layer uses a `sigmoid` activation so as to output a probability (a score between 0 and 1 indicating how likely the review is to be positive)\n",
        "- `relu` (rectified linear unit) is a function meant to zero out negative values (see figure 4.2)\n",
        "- `sigmoid` \"squashes\" arbitrary values into the `[0, 1]` interval (see figure 4.3), outputting a probability\n",
        "\n",
        "\n",
        "<img src=\"https://github.com/ambujtewari/stats315-winter2022/raw/main/images/relu.png\" height=\"300\">\n",
        "\n",
        "<img src=\"https://github.com/ambujtewari/stats315-winter2022/raw/main/images/sigmoid.png\" height=\"300\">"
      ],
      "metadata": {
        "id": "x-Vrl8W8kYd5"
      }
    },
    {
      "cell_type": "markdown",
      "metadata": {
        "id": "3ZI1xYYWnEmE"
      },
      "source": [
        "**Compiling the model**"
      ]
    },
    {
      "cell_type": "code",
      "execution_count": null,
      "metadata": {
        "id": "FMpMKIWfnEmF"
      },
      "outputs": [],
      "source": [
        "model.compile(optimizer=\"rmsprop\",         # good default choice for optimizer\n",
        "              loss=\"binary_crossentropy\",  # since our model outputs probabilities, cross entropy is a good choice\n",
        "              metrics=[\"accuracy\"])"
      ]
    },
    {
      "cell_type": "markdown",
      "metadata": {
        "id": "8mg7O29TnEmF"
      },
      "source": [
        "### Validating your approach\n",
        "\n",
        "- a deep learning model (or any ML model) should never be evaluated on its training data\n",
        "- it’s standard practice to use a validation set to monitor the accuracy of the model during training\n",
        "- we’ll create a validation set by setting apart 10,000 samples from the original training data"
      ]
    },
    {
      "cell_type": "markdown",
      "metadata": {
        "id": "uRhQT1IOnEmF"
      },
      "source": [
        "**Setting aside a validation set**"
      ]
    },
    {
      "cell_type": "code",
      "execution_count": null,
      "metadata": {
        "id": "lTeTTRCrnEmF"
      },
      "outputs": [],
      "source": [
        "x_val = x_train[:10000]\n",
        "partial_x_train = x_train[10000:]\n",
        "y_val = y_train[:10000]\n",
        "partial_y_train = y_train[10000:]"
      ]
    },
    {
      "cell_type": "markdown",
      "source": [
        "- we will now train the model for 15 epochs\n",
        "- that's 15 iterations over all samples in the training data\n",
        "- we will use mini-batches of 512 samples\n",
        "- we will monitor loss and accuracy on the 10,000 samples that we set apart\n",
        "- we do so by passing the validation data as the `validation_data` argument"
      ],
      "metadata": {
        "id": "XtWqsHQ_radN"
      }
    },
    {
      "cell_type": "markdown",
      "metadata": {
        "id": "jWHqrBy0nEmG"
      },
      "source": [
        "**Training your model**"
      ]
    },
    {
      "cell_type": "code",
      "execution_count": null,
      "metadata": {
        "id": "rh5KpXYSnEmG",
        "colab": {
          "base_uri": "https://localhost:8080/"
        },
        "outputId": "9758b527-e886-4d1b-a09c-2935d51a2e32"
      },
      "outputs": [
        {
          "output_type": "stream",
          "name": "stdout",
          "text": [
            "Epoch 1/15\n",
            "30/30 [==============================] - 4s 112ms/step - loss: 0.5674 - accuracy: 0.7605 - val_loss: 0.4548 - val_accuracy: 0.8492\n",
            "Epoch 2/15\n",
            "30/30 [==============================] - 2s 67ms/step - loss: 0.3696 - accuracy: 0.8894 - val_loss: 0.3426 - val_accuracy: 0.8810\n",
            "Epoch 3/15\n",
            "30/30 [==============================] - 1s 48ms/step - loss: 0.2747 - accuracy: 0.9125 - val_loss: 0.2967 - val_accuracy: 0.8883\n",
            "Epoch 4/15\n",
            "30/30 [==============================] - 1s 36ms/step - loss: 0.2176 - accuracy: 0.9305 - val_loss: 0.2801 - val_accuracy: 0.8888\n",
            "Epoch 5/15\n",
            "30/30 [==============================] - 1s 34ms/step - loss: 0.1836 - accuracy: 0.9389 - val_loss: 0.2734 - val_accuracy: 0.8886\n",
            "Epoch 6/15\n",
            "30/30 [==============================] - 1s 34ms/step - loss: 0.1546 - accuracy: 0.9518 - val_loss: 0.2787 - val_accuracy: 0.8865\n",
            "Epoch 7/15\n",
            "30/30 [==============================] - 1s 45ms/step - loss: 0.1344 - accuracy: 0.9577 - val_loss: 0.2894 - val_accuracy: 0.8846\n",
            "Epoch 8/15\n",
            "30/30 [==============================] - 1s 48ms/step - loss: 0.1198 - accuracy: 0.9627 - val_loss: 0.2972 - val_accuracy: 0.8821\n",
            "Epoch 9/15\n",
            "30/30 [==============================] - 1s 47ms/step - loss: 0.1003 - accuracy: 0.9710 - val_loss: 0.3057 - val_accuracy: 0.8843\n",
            "Epoch 10/15\n",
            "30/30 [==============================] - 1s 46ms/step - loss: 0.0875 - accuracy: 0.9752 - val_loss: 0.3324 - val_accuracy: 0.8775\n",
            "Epoch 11/15\n",
            "30/30 [==============================] - 2s 70ms/step - loss: 0.0765 - accuracy: 0.9789 - val_loss: 0.3399 - val_accuracy: 0.8833\n",
            "Epoch 12/15\n",
            "30/30 [==============================] - 2s 58ms/step - loss: 0.0664 - accuracy: 0.9833 - val_loss: 0.3927 - val_accuracy: 0.8730\n",
            "Epoch 13/15\n",
            "30/30 [==============================] - 1s 43ms/step - loss: 0.0567 - accuracy: 0.9868 - val_loss: 0.3776 - val_accuracy: 0.8794\n",
            "Epoch 14/15\n",
            "30/30 [==============================] - 1s 50ms/step - loss: 0.0490 - accuracy: 0.9893 - val_loss: 0.3927 - val_accuracy: 0.8769\n",
            "Epoch 15/15\n",
            "30/30 [==============================] - 2s 54ms/step - loss: 0.0417 - accuracy: 0.9911 - val_loss: 0.4108 - val_accuracy: 0.8758\n"
          ]
        }
      ],
      "source": [
        "history = model.fit(partial_x_train,\n",
        "                    partial_y_train,\n",
        "                    epochs=15,\n",
        "                    batch_size=512,\n",
        "                    validation_data=(x_val, y_val))"
      ]
    },
    {
      "cell_type": "code",
      "source": [
        "model.summary()"
      ],
      "metadata": {
        "colab": {
          "base_uri": "https://localhost:8080/"
        },
        "id": "hB3JsspwsxOF",
        "outputId": "0fc27c17-a5f4-440e-b574-76a684eaee42"
      },
      "execution_count": null,
      "outputs": [
        {
          "output_type": "stream",
          "name": "stdout",
          "text": [
            "Model: \"sequential_1\"\n",
            "_________________________________________________________________\n",
            " Layer (type)                Output Shape              Param #   \n",
            "=================================================================\n",
            " dense_3 (Dense)             (None, 16)                160016    \n",
            "                                                                 \n",
            " dense_4 (Dense)             (None, 16)                272       \n",
            "                                                                 \n",
            " dense_5 (Dense)             (None, 1)                 17        \n",
            "                                                                 \n",
            "=================================================================\n",
            "Total params: 160305 (626.19 KB)\n",
            "Trainable params: 160305 (626.19 KB)\n",
            "Non-trainable params: 0 (0.00 Byte)\n",
            "_________________________________________________________________\n"
          ]
        }
      ]
    },
    {
      "cell_type": "markdown",
      "source": [
        "- call to `model.fit()` returns a `History` object\n",
        "- this object has a member `history`\n",
        "- `history` is a dictionary containing data about everything that happened during training"
      ],
      "metadata": {
        "id": "xW--4KsUssQD"
      }
    },
    {
      "cell_type": "code",
      "execution_count": null,
      "metadata": {
        "id": "e2vz_PPEnEmG",
        "colab": {
          "base_uri": "https://localhost:8080/"
        },
        "outputId": "b8e0fc11-ab2e-4132-a6e4-5aef762cf8eb"
      },
      "outputs": [
        {
          "output_type": "execute_result",
          "data": {
            "text/plain": [
              "dict_keys(['loss', 'accuracy', 'val_loss', 'val_accuracy'])"
            ]
          },
          "metadata": {},
          "execution_count": 26
        }
      ],
      "source": [
        "history_dict = history.history\n",
        "history_dict.keys()"
      ]
    },
    {
      "cell_type": "markdown",
      "source": [
        "The dictionary contains four entries: one per metric that was being monitored during training and during validation"
      ],
      "metadata": {
        "id": "dEVcke2itNBx"
      }
    },
    {
      "cell_type": "markdown",
      "metadata": {
        "id": "_SRDByt-nEmG"
      },
      "source": [
        "**Plotting the training and validation loss**"
      ]
    },
    {
      "cell_type": "code",
      "execution_count": null,
      "metadata": {
        "id": "gWRYDr6TnEmG",
        "colab": {
          "base_uri": "https://localhost:8080/",
          "height": 472
        },
        "outputId": "cee479eb-b1c6-4c7d-810d-577e0e970bf6"
      },
      "outputs": [
        {
          "output_type": "display_data",
          "data": {
            "text/plain": [
              "<Figure size 640x480 with 1 Axes>"
            ],
            "image/png": "[encoded data removed]"
          },
          "metadata": {}
        }
      ],
      "source": [
        "import matplotlib.pyplot as plt\n",
        "history_dict = history.history\n",
        "loss_values = history_dict[\"loss\"]\n",
        "val_loss_values = history_dict[\"val_loss\"]\n",
        "epochs = range(1, len(loss_values) + 1)\n",
        "plt.plot(epochs, loss_values, \"bo\", label=\"Training loss\")\n",
        "plt.plot(epochs, val_loss_values, \"b\", label=\"Validation loss\")\n",
        "plt.title(\"Training and validation loss\")\n",
        "plt.xlabel(\"Epochs\")\n",
        "plt.ylabel(\"Loss\")\n",
        "plt.legend()\n",
        "plt.show()"
      ]
    },
    {
      "cell_type": "markdown",
      "metadata": {
        "id": "Vtqqos6EnEmH"
      },
      "source": [
        "**Plotting the training and validation accuracy**"
      ]
    },
    {
      "cell_type": "code",
      "execution_count": null,
      "metadata": {
        "id": "Qt4Zu2lDnEmH",
        "colab": {
          "base_uri": "https://localhost:8080/",
          "height": 472
        },
        "outputId": "4b842fbf-f15c-4b83-cf37-df8cbb9a0707"
      },
      "outputs": [
        {
          "output_type": "display_data",
          "data": {
            "text/plain": [
              "<Figure size 640x480 with 1 Axes>"
            ],
            "image/png": "[encoded data removed]"
          },
          "metadata": {}
        }
      ],
      "source": [
        "plt.clf()\n",
        "acc = history_dict[\"accuracy\"]\n",
        "val_acc = history_dict[\"val_accuracy\"]\n",
        "plt.plot(epochs, acc, \"bo\", label=\"Training acc\")\n",
        "plt.plot(epochs, val_acc, \"b\", label=\"Validation acc\")\n",
        "plt.title(\"Training and validation accuracy\")\n",
        "plt.xlabel(\"Epochs\")\n",
        "plt.ylabel(\"Accuracy\")\n",
        "plt.legend()\n",
        "plt.show()"
      ]
    },
    {
      "cell_type": "markdown",
      "source": [
        "- training loss decreases with every epoch\n",
        "- training accuracy increases with every epoch\n",
        "- we're running gradient-descent optimization—the quantity we're trying to minimize should be less with every iteration\n",
        "- but that isn't the case for the validation loss/accuracy: they seem to peak at the fourth epoch\n",
        "- what we're seeing is *overfitting*: after the fourth epoch, we're overoptimizing on the training data\n",
        "- we end up learning representations that are specific to the training data and don't generalize to data outside of the training set\n",
        "- we could stop training after four epochs (early stopping)\n",
        "- we will later see a range of techniques to mitigate overfitting\n",
        "\n",
        "Let’s train a new model from scratch for four epochs and then evaluate it on the test data.\n"
      ],
      "metadata": {
        "id": "soUI0B6ytnhT"
      }
    },
    {
      "cell_type": "markdown",
      "metadata": {
        "id": "oa72-dE_nEmH"
      },
      "source": [
        "**Retraining a model from scratch**"
      ]
    },
    {
      "cell_type": "code",
      "execution_count": null,
      "metadata": {
        "id": "dcHfAo4bnEmH",
        "colab": {
          "base_uri": "https://localhost:8080/"
        },
        "outputId": "5d11482f-311a-4491-84ff-772c190a2e20"
      },
      "outputs": [
        {
          "output_type": "stream",
          "name": "stdout",
          "text": [
            "Epoch 1/4\n",
            "49/49 [==============================] - 3s 57ms/step - loss: 0.4827 - accuracy: 0.8148\n",
            "Epoch 2/4\n",
            "49/49 [==============================] - 3s 52ms/step - loss: 0.2910 - accuracy: 0.8984\n",
            "Epoch 3/4\n",
            "49/49 [==============================] - 2s 35ms/step - loss: 0.2240 - accuracy: 0.9217\n",
            "Epoch 4/4\n",
            "49/49 [==============================] - 2s 43ms/step - loss: 0.1891 - accuracy: 0.9316\n",
            "Now evaluating the model on test set...\n",
            "782/782 [==============================] - 3s 3ms/step - loss: 0.2949 - accuracy: 0.8824\n"
          ]
        }
      ],
      "source": [
        "model = keras.Sequential([\n",
        "    layers.Dense(16, activation=\"relu\"),\n",
        "    layers.Dense(16, activation=\"relu\"),\n",
        "    layers.Dense(1, activation=\"sigmoid\")\n",
        "])\n",
        "model.compile(optimizer=\"rmsprop\",\n",
        "              loss=\"binary_crossentropy\",\n",
        "              metrics=[\"accuracy\"])\n",
        "model.fit(x_train, y_train, epochs=4, batch_size=512)\n",
        "print(\"Now evaluating the model on test set...\")\n",
        "results = model.evaluate(x_test, y_test)"
      ]
    },
    {
      "cell_type": "code",
      "execution_count": null,
      "metadata": {
        "id": "6f68_J-AnEmI",
        "colab": {
          "base_uri": "https://localhost:8080/"
        },
        "outputId": "b248bfe3-70e9-43d2-bded-cde6138701ff"
      },
      "outputs": [
        {
          "output_type": "execute_result",
          "data": {
            "text/plain": [
              "[0.2916993796825409, 0.883400022983551]"
            ]
          },
          "metadata": {},
          "execution_count": 23
        }
      ],
      "source": [
        "results # gives us the loss and accuracy on the test set"
      ]
    },
    {
      "cell_type": "markdown",
      "metadata": {
        "id": "kOVdA-nVnEmI"
      },
      "source": [
        "### Using a trained model to generate predictions on new data"
      ]
    },
    {
      "cell_type": "code",
      "execution_count": null,
      "metadata": {
        "id": "miAEW5mcnEmI",
        "colab": {
          "base_uri": "https://localhost:8080/"
        },
        "outputId": "b597e479-ee7f-4171-fc0a-f989bdef6beb"
      },
      "outputs": [
        {
          "output_type": "stream",
          "name": "stdout",
          "text": [
            "782/782 [==============================] - 3s 4ms/step\n"
          ]
        },
        {
          "output_type": "execute_result",
          "data": {
            "text/plain": [
              "array([[0.28848904],\n",
              "       [0.9993869 ],\n",
              "       [0.92744285],\n",
              "       ...,\n",
              "       [0.1485145 ],\n",
              "       [0.11357508],\n",
              "       [0.754173  ]], dtype=float32)"
            ]
          },
          "metadata": {},
          "execution_count": 30
        }
      ],
      "source": [
        "predictions = model.predict(x_test)\n",
        "predictions"
      ]
    },
    {
      "cell_type": "code",
      "source": [
        "# for visualization purposes only\n",
        "predictions_for_positives = predictions[y_test == 1]\n",
        "predictions_for_negatives = predictions[y_test == 0]\n",
        "fig, (ax1, ax2) = plt.subplots(1, 2)\n",
        "ax1.set_title('Predictions for positive reviews')\n",
        "ax1.violinplot(predictions_for_positives)\n",
        "ax2.set_title('Predictions for negative reviews')\n",
        "ax2.violinplot(predictions_for_negatives)\n",
        "fig.tight_layout()\n",
        "fig.show()"
      ],
      "metadata": {
        "colab": {
          "base_uri": "https://localhost:8080/",
          "height": 487
        },
        "id": "TZD5Sw-8vasn",
        "outputId": "838b1880-a623-465a-e536-5e2328296eb7"
      },
      "execution_count": null,
      "outputs": [
        {
          "output_type": "display_data",
          "data": {
            "text/plain": [
              "<Figure size 640x480 with 2 Axes>"
            ],
            "image/png": "[encoded data removed]"
          },
          "metadata": {}
        }
      ]
    },
    {
      "cell_type": "markdown",
      "metadata": {
        "id": "JVeeVov3nEmI"
      },
      "source": [
        "### Further experiments\n",
        "\n",
        "Feel free to play with the code above by making one or more of the following changes:\n",
        "- Try using one or three representation layers, and see how doing so affects validation and test accuracy.\n",
        "- Try using layers with more units or fewer units: 32 units, 64 units, and so on.\n",
        "- Try using the `mse` loss function instead of `binary_crossentropy`.\n",
        "- Try using the `tanh` activation (an activation that was popular in the early days of neural networks) instead of `relu`."
      ]
    },
    {
      "cell_type": "markdown",
      "source": [
        "**Looking at the first few mistakes**"
      ],
      "metadata": {
        "id": "NakPpWYQuXpR"
      }
    },
    {
      "cell_type": "code",
      "source": [
        "mistakes = 1*(predictions > 0.5).squeeze() != y_test"
      ],
      "metadata": {
        "id": "s3q7jP-zW5fF"
      },
      "execution_count": null,
      "outputs": []
    },
    {
      "cell_type": "code",
      "source": [
        "for i in range(100): # look at incorrect predictions in the first 100 test set examples\n",
        "  if mistakes[i]:\n",
        "    decoded_review = [reverse_word_index.get(i - 3, \"?\") for i in test_data[i]]\n",
        "    print(\" \".join(decoded_review))\n",
        "    print(f\"model probability: {predictions[i][0]:.2f}, true label: {y_test[i]}\")"
      ],
      "metadata": {
        "colab": {
          "base_uri": "https://localhost:8080/"
        },
        "id": "psxU06BuY-ep",
        "outputId": "03f2e92c-2868-4126-af8e-91de9e1b9a47"
      },
      "execution_count": null,
      "outputs": [
        {
          "output_type": "stream",
          "name": "stdout",
          "text": [
            "? i generally love this type of movie however this time i found myself wanting to kick the screen since i can't do that i will just complain about it this was absolutely idiotic the things that happen with the dead kids are very cool but the alive people are absolute idiots i am a grown man pretty big and i can defend myself well however i would not do half the stuff the little girl does in this movie also the mother in this movie is reckless with her children to the point of neglect i wish i wasn't so angry about her and her actions because i would have otherwise enjoyed the flick what a number she was take my advise and fast forward through everything you see her do until the end also is anyone else getting sick of watching movies that are filmed so dark anymore one can hardly see what is being filmed as an audience we are ? involved with the actions on the screen so then why the hell can't we have night vision\n",
            "model probability: 0.81, true label: 0.0\n",
            "? hollywood had a long love affair with bogus ? nights tales but few of these products have stood the test of time the most memorable were the jon hall maria ? films which have long since become camp this one is filled with dubbed songs ? ? and slapstick it's a truly crop of corn and pretty near ? today it was nominated for its imaginative special effects which are almost ? in this day and age ? mainly of trick photography the only outstanding positive feature which survives is its beautiful color and clarity sad to say of the many films made in this genre few of them come up to alexander ? original thief of ? almost any other ? nights film is superior to this one though it's a loser\n",
            "model probability: 0.97, true label: 0.0\n",
            "? ed ? mitchell is a teenager who lives for his job at good ? a small but friendly neighborhood ? stand while his buddy ? thompson also works there but lack ? single minded devotion to his job he's there because he accidentally destroyed the car of his teacher mr ? ? and has to raise money to pay the ? when ? ? a ? fast foot chain opens across the street it looks like good ? is history until ed ? a secret ? that brings hundreds of new customers to their door however the ? manager of ? ? kurt jan is determined to get his hands on the ? and put good ? out of business meanwhile ed and ? must rescue ? ? ? the world's oldest fast food employee from the demented hills asylum and ed might just find love with ? jackson if he could take his mind off the ? long enough to pay attention to her good ? is a comedy directed for kids decent story acting and overall a pretty harmless kids movie\n",
            "model probability: 0.81, true label: 0.0\n",
            "? how managed to avoid attention remains a mystery a potent mix of comedy and crime this one takes chances where tarantino plays it safe with the hollywood formula the risks don't always pay off one character in one sequence comes off ? silly and falls flat in the lead role thomas jane gives a wonderful and complex performance and two brief appearances by mickey rourke hint at the high potential of this much under and ? used actor here's a director one should keep one's eye on\n",
            "model probability: 0.39, true label: 1.0\n",
            "? if you expect that this movie is full of action and grabbing you from the start then don't watch it but if you like those kind of ? movies which stick in your mind for a while until you get the details then you will love it now don't get me wrong there is action and there are things going on just not in the usual way br br basically the plot is in a post apocalyptic world where anyone fights in his or their way for survival in this fight they lost the ability to speak i don't want to write more to not spoil the movie for you but trust me if you like sf authors like or or even some from orson scott card you will love this movie\n",
            "model probability: 0.33, true label: 1.0\n",
            "? if you have never read the classic science fiction novel this mini series is based on it may actually be good unfortunately if you are a fan of the book you probably won't be able to watch more than the first hour or two all of the political intrigue has been taken out of the film the most important scenes from the book have been taken out characters motivations have been changed completely and words from the wrong characters mouths where in the novel paul was a teen age boy with incredible political skill and a great understanding of the way the world worked in this film he is hot headed and and frustrated avoid this movie at all costs\n",
            "model probability: 0.91, true label: 0.0\n",
            "? this is a special film if you know the context antonioni in his eighties had been crippled by a stroke mute and half ? his friends who incidentally are the best the film world has arranged for him to a last significant film the idea is that he can ? a story into being by just looking at it so we have a film about a director who ? stories by simple observation and the matter of the four stories is about how the visual imagination ? love br br the film emerges by giving us the tools to bring it into being through our own imagination the result is pure movie world every person except the director is lovely in aspect or movement some of these women are and they exist in a dreamy misty world of sensual encounter there is no nuance no hint that anything exists but what we see no desire is at work other than what we create br br i know of no other film that so successfully ? our own visual yearning to have us create the world we see he understands something about not touching no one understands van ? visually like he does ? ? space music is ? on precisely the same notion the sensual touch that implies but doesn't physically touch br br ? ? wife appears appropriately as the ? and she also directs a lackluster ? ? film that is on the dvd br br ted's ? 3 of 4 worth watching\n",
            "model probability: 0.47, true label: 1.0\n",
            "? oh how awfully this movie is i don't know if it is a horror film or a drama cause the story and the both genres are not established very well the story is not moving it is slow boring and sleepy from the beginning to end this movie really ? me but i really liked the camera work it is authentic fresh and clear the acting is great too the little boy was the great performer in this movie but it hasn't made me to jump from my seat but this movie makes me grab a ? lay on the bed and sleep until the credits roll br br boring not worth watching i tell you this movie sucked br br 1 10\n",
            "model probability: 0.80, true label: 0.0\n",
            "? the adventures of ? has to be one of the ? excuses for a movie i've yet run across you would have to look far and wide to find anything that approaches the level of ? on display in this movie acting  bad editing  bad direction  bad special effects  bad and laughable plot  bad lighting  bad cinematography  bad costume design  bad and silly everything else  bad watching the adventures of ? is about as enjoyable as a root ? even for a fan of bad movies it's a real ? test this is one for either ? or lou ? ? if any exist br br eight things i learned from watching the adventures of ? br br 1 if you don't have the budget for real special effects ? a scene from the previous movie it will look great trust me br br 2 when on a quest to recover take time for frequent stops to oil up you body it worked for ? and his two amazon companions br br 3 any sword fight use of magic and just about all other day to day activities in ancient ? created a sound very similar to a game of man or ? br br 4 some of the ancient greek gods dressed like extras from star wars br br 5 if you need to pad your crappy movie's runtime ? the title sequence by adding star trek style credits and throw in some overly ? music it also helps if you've got a previous movie to pull scenes from br br 6 fight scenes move along much ? if the bad guys attack ? one at a time br br 7 william ? did anything for money br br 8 i didn't think it was possible but the adventures of ? makes the first film ? 1983 look like an academy award winner\n",
            "model probability: 0.51, true label: 0.0\n",
            "? there seems to be a spectrum of cinema on the left there are movies made mostly for entertainment and or commercial purposes in the middle there are movies that are both entertaining and artistic on the right are movies that are not as commercial but are focused more on cinema as art than cinema as product br br i'm not here to say any one part of the spectrum is better than any other but that when a movie goes too far to either end it's rarely good such is the case with ? br br i had no idea what to expect when i saw it advertised a few friends were going and asked if i wanted to come along none of us knew what to expect and by the end none of us were pleased br br yes there are breathtaking images yes i'm amazed at the ? the filmmakers went to in searching through ? footage yes the soundtrack is enjoyable to listen to and probably the best part of the experience the thing is this goes so far to the right side of the spectrum i mentioned that i can't say anything nice about the movie as a whole br br it's preachy it's a ? of symbolism and obvious morality it's not saying anything new or forcing the viewer to examine life in a new way it's just telling us things we already know that is if we can even figure out what it's saying br br this movie is simply art for ? sake an attempt to say look at how deep and thought provoking we can be by using montage when a film becomes more about how clever or intelligent its creators are than about its subject it ? to be a film and simply becomes celluloid self ?\n",
            "model probability: 0.82, true label: 0.0\n"
          ]
        }
      ]
    }
  ],
  "metadata": {
    "colab": {
      "provenance": []
    },
    "kernelspec": {
      "display_name": "Python 3",
      "language": "python",
      "name": "python3"
    },
    "language_info": {
      "codemirror_mode": {
        "name": "ipython",
        "version": 3
      },
      "file_extension": ".py",
      "mimetype": "text/x-python",
      "name": "python",
      "nbconvert_exporter": "python",
      "pygments_lexer": "ipython3",
      "version": "3.7.0"
    }
  },
  "nbformat": 4,
  "nbformat_minor": 0
}