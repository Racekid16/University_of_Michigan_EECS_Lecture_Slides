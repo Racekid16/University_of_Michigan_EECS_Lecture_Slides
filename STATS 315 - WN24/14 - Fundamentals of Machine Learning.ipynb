{
  "cells": [
    {
      "cell_type": "markdown",
      "metadata": {
        "id": "ZLQvAtfBHskH"
      },
      "source": [
        "**Notebook credit**: based on the F. Chollet's original notebook [here](https://github.com/fchollet/deep-learning-with-python-notebooks/blob/master/chapter05_fundamentals-of-ml.ipynb)."
      ]
    },
    {
      "cell_type": "markdown",
      "metadata": {
        "id": "mZQPCT8HHskI"
      },
      "source": [
        "# Fundamentals of machine learning"
      ]
    },
    {
      "cell_type": "markdown",
      "metadata": {
        "id": "Xz-njyBsHskI"
      },
      "source": [
        "## Generalization: The goal of machine learning\n",
        "\n",
        "- we have looked at predicting movie reviews and house-price regression\n",
        "- we split the data into a training set, a validation set, and a test set\n",
        "- we should not evaluate the models on the same data they\n",
        "were trained\n",
        "- after just a few epochs, performance on never-before-seen data started diverging from performance on the training data\n",
        "- training data performance always improves as training progresses\n",
        "- at some point, the models started to **overfit**\n"
      ]
    },
    {
      "cell_type": "markdown",
      "source": [
        "\n",
        "**The fundamental issue in ML is the tension between optimization and generalization**\n",
        "\n",
        "- optimization: process of adjusting a model to get the best performance possible on the training data\n",
        "- generalization: how well the trained model performs on data it has never seen before\n",
        "- key challenge: our *goal* is good generalization we can't directly control generalization\n",
        "- can only fit the model to its training data\n",
        "- do that too well: overfitting kicks in and generalization suffers"
      ],
      "metadata": {
        "id": "oppnCwrfoVj8"
      }
    },
    {
      "cell_type": "markdown",
      "metadata": {
        "id": "FEtXNyF7HskI"
      },
      "source": [
        "### Underfitting and overfitting\n",
        "\n",
        "<img src=\"https://github.com/ambujtewari/stats315-winter2022/raw/main/images/overfitting.png\" width=\"500\">\n",
        "\n",
        "Overfitting is particularly likely to occur when your data:\n",
        "- is noisy\n",
        "- involves uncertainty\n",
        "- includes rare features"
      ]
    },
    {
      "cell_type": "markdown",
      "metadata": {
        "id": "HvZLntsAHskJ"
      },
      "source": [
        "**Adding white-noise channels or all-zeros channels to MNIST**\n",
        "\n",
        "- we will create new training set by concatenating 784 white noise dimensions to the existing 784 dimensions of the data\n",
        "- we will also create an equivalent dataset by concatenating 784 all-zeros dimensions\n",
        "- concatenation of meaningless features does not at all affect the information content of the data\n",
        "- human classification accuracy wouldn't be affected by these transformations at all\n"
      ]
    },
    {
      "cell_type": "code",
      "execution_count": null,
      "metadata": {
        "id": "P9arjPLyHskK",
        "colab": {
          "base_uri": "https://localhost:8080/"
        },
        "outputId": "1ce7e448-6f87-494c-b534-0b037f786a50"
      },
      "outputs": [
        {
          "output_type": "stream",
          "name": "stdout",
          "text": [
            "Downloading data from https://storage.googleapis.com/tensorflow/tf-keras-datasets/mnist.npz\n",
            "11490434/11490434 [==============================] - 0s 0us/step\n"
          ]
        }
      ],
      "source": [
        "from tensorflow.keras.datasets import mnist\n",
        "import numpy as np\n",
        "\n",
        "(train_images, train_labels), _ = mnist.load_data()\n",
        "train_images = train_images.reshape((60000, 28 * 28))\n",
        "train_images = train_images.astype(\"float32\") / 255\n",
        "\n",
        "train_images_with_noise_channels = np.concatenate( # add 784 features that are pure noise\n",
        "    [train_images, np.random.random((len(train_images), 784))], axis=1)\n",
        "\n",
        "train_images_with_zeros_channels = np.concatenate( # add 784 features that are all-zeros\n",
        "    [train_images, np.zeros((len(train_images), 784))], axis=1)"
      ]
    },
    {
      "cell_type": "markdown",
      "metadata": {
        "id": "HrfHwiGsHskL"
      },
      "source": [
        "**Training the same model on MNIST data with noise channels or all-zero channels**"
      ]
    },
    {
      "cell_type": "code",
      "execution_count": null,
      "metadata": {
        "id": "7yfw7e5rHskL",
        "colab": {
          "base_uri": "https://localhost:8080/"
        },
        "outputId": "b4327c5c-adec-41f6-f6d3-f94db56588cd"
      },
      "outputs": [
        {
          "output_type": "stream",
          "name": "stdout",
          "text": [
            "Epoch 1/10\n",
            "375/375 [==============================] - 9s 22ms/step - loss: 0.6226 - accuracy: 0.8107 - val_loss: 0.4152 - val_accuracy: 0.8597\n",
            "Epoch 2/10\n",
            "375/375 [==============================] - 7s 18ms/step - loss: 0.2572 - accuracy: 0.9202 - val_loss: 0.1914 - val_accuracy: 0.9428\n",
            "Epoch 3/10\n",
            "375/375 [==============================] - 6s 17ms/step - loss: 0.1679 - accuracy: 0.9491 - val_loss: 0.1890 - val_accuracy: 0.9441\n",
            "Epoch 4/10\n",
            "375/375 [==============================] - 7s 20ms/step - loss: 0.1197 - accuracy: 0.9626 - val_loss: 0.1394 - val_accuracy: 0.9592\n",
            "Epoch 5/10\n",
            "375/375 [==============================] - 8s 22ms/step - loss: 0.0879 - accuracy: 0.9725 - val_loss: 0.1472 - val_accuracy: 0.9567\n",
            "Epoch 6/10\n",
            "375/375 [==============================] - 7s 19ms/step - loss: 0.0641 - accuracy: 0.9789 - val_loss: 0.2041 - val_accuracy: 0.9389\n",
            "Epoch 7/10\n",
            "375/375 [==============================] - 6s 16ms/step - loss: 0.0470 - accuracy: 0.9847 - val_loss: 0.1902 - val_accuracy: 0.9483\n",
            "Epoch 8/10\n",
            "375/375 [==============================] - 7s 19ms/step - loss: 0.0358 - accuracy: 0.9882 - val_loss: 0.1409 - val_accuracy: 0.9629\n",
            "Epoch 9/10\n",
            "375/375 [==============================] - 6s 16ms/step - loss: 0.0248 - accuracy: 0.9923 - val_loss: 0.1211 - val_accuracy: 0.9678\n",
            "Epoch 10/10\n",
            "375/375 [==============================] - 7s 18ms/step - loss: 0.0199 - accuracy: 0.9938 - val_loss: 0.1303 - val_accuracy: 0.9668\n",
            "Epoch 1/10\n",
            "375/375 [==============================] - 7s 18ms/step - loss: 0.3016 - accuracy: 0.9118 - val_loss: 0.1528 - val_accuracy: 0.9570\n",
            "Epoch 2/10\n",
            "375/375 [==============================] - 6s 15ms/step - loss: 0.1230 - accuracy: 0.9641 - val_loss: 0.1048 - val_accuracy: 0.9697\n",
            "Epoch 3/10\n",
            "375/375 [==============================] - 7s 17ms/step - loss: 0.0809 - accuracy: 0.9763 - val_loss: 0.0894 - val_accuracy: 0.9747\n",
            "Epoch 4/10\n",
            "375/375 [==============================] - 6s 15ms/step - loss: 0.0590 - accuracy: 0.9824 - val_loss: 0.0805 - val_accuracy: 0.9760\n",
            "Epoch 5/10\n",
            "375/375 [==============================] - 7s 19ms/step - loss: 0.0439 - accuracy: 0.9871 - val_loss: 0.0792 - val_accuracy: 0.9763\n",
            "Epoch 6/10\n",
            "375/375 [==============================] - 6s 16ms/step - loss: 0.0330 - accuracy: 0.9904 - val_loss: 0.0781 - val_accuracy: 0.9783\n",
            "Epoch 7/10\n",
            "375/375 [==============================] - 7s 18ms/step - loss: 0.0246 - accuracy: 0.9931 - val_loss: 0.0747 - val_accuracy: 0.9787\n",
            "Epoch 8/10\n",
            "375/375 [==============================] - 6s 15ms/step - loss: 0.0183 - accuracy: 0.9950 - val_loss: 0.0753 - val_accuracy: 0.9794\n",
            "Epoch 9/10\n",
            "375/375 [==============================] - 7s 18ms/step - loss: 0.0143 - accuracy: 0.9963 - val_loss: 0.0790 - val_accuracy: 0.9790\n",
            "Epoch 10/10\n",
            "375/375 [==============================] - 6s 16ms/step - loss: 0.0101 - accuracy: 0.9975 - val_loss: 0.0780 - val_accuracy: 0.9798\n"
          ]
        }
      ],
      "source": [
        "from tensorflow import keras\n",
        "from tensorflow.keras import layers\n",
        "\n",
        "def get_model():\n",
        "    model = keras.Sequential([\n",
        "        layers.Dense(512, activation=\"relu\"),\n",
        "        layers.Dense(10, activation=\"softmax\")\n",
        "    ])\n",
        "    model.compile(optimizer=\"rmsprop\",\n",
        "                  loss=\"sparse_categorical_crossentropy\",\n",
        "                  metrics=[\"accuracy\"])\n",
        "    return model\n",
        "\n",
        "model = get_model()\n",
        "history_noise = model.fit(\n",
        "    train_images_with_noise_channels, train_labels,\n",
        "    epochs=10,\n",
        "    batch_size=128,\n",
        "    validation_split=0.2) # use first 80% as training, rest 20% as validation\n",
        "\n",
        "model = get_model()\n",
        "history_zeros = model.fit(\n",
        "    train_images_with_zeros_channels, train_labels,\n",
        "    epochs=10,\n",
        "    batch_size=128,\n",
        "    validation_split=0.2)"
      ]
    },
    {
      "cell_type": "markdown",
      "metadata": {
        "id": "aFDz3HEFHskL"
      },
      "source": [
        "**Plotting a validation accuracy comparison**"
      ]
    },
    {
      "cell_type": "code",
      "execution_count": null,
      "metadata": {
        "id": "3tkVf8EFHskM",
        "colab": {
          "base_uri": "https://localhost:8080/",
          "height": 489
        },
        "outputId": "978de9f1-b3ad-422e-cb00-272397861ac1"
      },
      "outputs": [
        {
          "output_type": "execute_result",
          "data": {
            "text/plain": [
              "<matplotlib.legend.Legend at 0x7e4e680be9e0>"
            ]
          },
          "metadata": {},
          "execution_count": 3
        },
        {
          "output_type": "display_data",
          "data": {
            "text/plain": [
              "<Figure size 640x480 with 1 Axes>"
            ],
            "image/png": "[encoded data removed]"
          },
          "metadata": {}
        }
      ],
      "source": [
        "import matplotlib.pyplot as plt\n",
        "val_acc_noise = history_noise.history[\"val_accuracy\"]\n",
        "val_acc_zeros = history_zeros.history[\"val_accuracy\"]\n",
        "epochs = range(1, 11)\n",
        "plt.plot(epochs, val_acc_noise, \"b-\",\n",
        "         label=\"Validation accuracy with noise channels\")\n",
        "plt.plot(epochs, val_acc_zeros, \"b--\",\n",
        "         label=\"Validation accuracy with zeros channels\")\n",
        "plt.title(\"Effect of noise channels on validation accuracy\")\n",
        "plt.xlabel(\"Epochs\")\n",
        "plt.ylabel(\"Accuracy\")\n",
        "plt.legend()"
      ]
    },
    {
      "cell_type": "markdown",
      "metadata": {
        "id": "IyTLraN6HskM"
      },
      "source": [
        "### The nature of generalization in deep learning\n",
        "\n",
        "- deep learning models can be trained to fit anything, as long as they have enough representational power\n",
        "- we will look at this \"universal approximation\" property later on in the course\n",
        "- for now we will see a particular manifestation of this power\n",
        "- we will shuffle the MNIST labels and train a model on that\n",
        "- now there is no relationship whatsoever between the inputs and the shuffled labels\n",
        "- however, the training loss goes down just fine, even with a relatively small model\n",
        "- naturally, the validation loss does not improve at all over time"
      ]
    },
    {
      "cell_type": "markdown",
      "metadata": {
        "id": "eAVl3OYiHskM"
      },
      "source": [
        "**Fitting a MNIST model with randomly shuffled labels**"
      ]
    },
    {
      "cell_type": "code",
      "execution_count": null,
      "metadata": {
        "id": "vnLwoi5dHskM",
        "colab": {
          "base_uri": "https://localhost:8080/"
        },
        "outputId": "8abdcbea-c9c8-4d5a-bafd-031691a5fa6b"
      },
      "outputs": [
        {
          "output_type": "stream",
          "name": "stdout",
          "text": [
            "Epoch 1/10\n",
            "375/375 [==============================] - 4s 8ms/step - loss: 2.3144 - accuracy: 0.1034 - val_loss: 2.3081 - val_accuracy: 0.1047\n",
            "Epoch 2/10\n",
            "375/375 [==============================] - 4s 10ms/step - loss: 2.2983 - accuracy: 0.1161 - val_loss: 2.3147 - val_accuracy: 0.0997\n",
            "Epoch 3/10\n",
            "375/375 [==============================] - 4s 10ms/step - loss: 2.2900 - accuracy: 0.1298 - val_loss: 2.3174 - val_accuracy: 0.1030\n",
            "Epoch 4/10\n",
            "375/375 [==============================] - 3s 8ms/step - loss: 2.2780 - accuracy: 0.1386 - val_loss: 2.3310 - val_accuracy: 0.1059\n",
            "Epoch 5/10\n",
            "375/375 [==============================] - 3s 8ms/step - loss: 2.2613 - accuracy: 0.1531 - val_loss: 2.3385 - val_accuracy: 0.1047\n",
            "Epoch 6/10\n",
            "375/375 [==============================] - 4s 11ms/step - loss: 2.2420 - accuracy: 0.1662 - val_loss: 2.3493 - val_accuracy: 0.1026\n",
            "Epoch 7/10\n",
            "375/375 [==============================] - 3s 8ms/step - loss: 2.2195 - accuracy: 0.1797 - val_loss: 2.3590 - val_accuracy: 0.1062\n",
            "Epoch 8/10\n",
            "375/375 [==============================] - 3s 9ms/step - loss: 2.1916 - accuracy: 0.1978 - val_loss: 2.3934 - val_accuracy: 0.1090\n",
            "Epoch 9/10\n",
            "375/375 [==============================] - 4s 10ms/step - loss: 2.1626 - accuracy: 0.2124 - val_loss: 2.3921 - val_accuracy: 0.1062\n",
            "Epoch 10/10\n",
            "375/375 [==============================] - 4s 10ms/step - loss: 2.1305 - accuracy: 0.2310 - val_loss: 2.4242 - val_accuracy: 0.1055\n"
          ]
        },
        {
          "output_type": "execute_result",
          "data": {
            "text/plain": [
              "<keras.src.callbacks.History at 0x7e4e5afd2ef0>"
            ]
          },
          "metadata": {},
          "execution_count": 4
        }
      ],
      "source": [
        "(train_images, train_labels), _ = mnist.load_data()\n",
        "train_images = train_images.reshape((60000, 28 * 28))\n",
        "train_images = train_images.astype(\"float32\") / 255\n",
        "\n",
        "random_train_labels = train_labels[:]\n",
        "np.random.shuffle(random_train_labels)\n",
        "\n",
        "model = keras.Sequential([\n",
        "    layers.Dense(512, activation=\"relu\"),\n",
        "    layers.Dense(10, activation=\"softmax\")\n",
        "])\n",
        "model.compile(optimizer=\"rmsprop\",\n",
        "              loss=\"sparse_categorical_crossentropy\",\n",
        "              metrics=[\"accuracy\"])\n",
        "model.fit(train_images, random_train_labels,\n",
        "          epochs=10,                         # increasing this will further increase the gap between training and validation accuracies\n",
        "          batch_size=128,\n",
        "          validation_split=0.2)"
      ]
    },
    {
      "cell_type": "markdown",
      "metadata": {
        "id": "qj0fzVrUHskN"
      },
      "source": [
        "#### The manifold hypothesis\n",
        "\n",
        "- how large is the space of 28 x 28 images with integer pixel values between 0 and 255?\n",
        "- very few of these inputs would look like valid MNIST samples\n",
        "- actual handwritten digits only occupy a tiny subspace of the parent space of all possible 28 × 28 `uint8` arrays\n",
        "this subspace is highly structured:\n",
        "  - it is continuous: if you take a sample and modify it a little, it will still be recognizable as the same handwritten digit\n",
        "  - all samples in the valid subspace are connected by smooth paths that run through the subspace. This means that if you take two random MNIST digits A and B, there exists a sequence of “intermediate” images that morph A into B, such that two consecutive digits are very close to each other\n",
        "\n",
        "\n",
        "- handwritten digits form a **manifold** within the space of possible 28 × 28 `uint8` arrays\n",
        "- A \"manifold\" is a lower-dimensional subspace of some parent space that is locally similar to a linear (Euclidean) space\n",
        "  - a smooth curve in the plane is a 1D manifold within a 2D space, because for every point of the curve, you can draw a tangent\n",
        "  - a smooth surface within a 3D space is a 2D manifold\n",
        "\n",
        "<img src=\"https://github.com/ambujtewari/stats315-winter2022/raw/main/images/MNIST_morphing.png\" width=\"500\">"
      ]
    },
    {
      "cell_type": "markdown",
      "source": [
        "\n",
        "**What is the manifold hypothesis?**\n",
        "\n",
        "_All natural data lies on a low-dimensional manifold within the high-dimensional space where it is encoded._\n",
        "\n",
        "- pretty strong statement about the structure of information in the universe\n",
        "- as far as we know, it's accurate (*), and it's the reason why deep learning works\n",
        "  - MNIST digits\n",
        "  - human faces\n",
        "  - tree morphology\n",
        "  - sounds of the human voice\n",
        "  - natural language\n",
        "\n",
        "The manifold hypothesis implies:\n",
        "- Machine learning models only have to fit relatively simple, low-dimensional, highly structured subspaces within their potential input space (latent manifolds).\n",
        "- Within one of these manifolds, it's always possible to *interpolate* between two inputs, that is to say, morph one into another via a continuous path along which all points fall on the manifold.\n",
        "- The ability to interpolate between samples is the key to understanding generalization in deep learning.\n",
        "\n",
        "`begin side note`\n",
        "\n",
        "(*) it is natural to wonder what is the empirical evidence in favor of the manifold hypothesis. there is theoretical work on testing the manifold hypothesis:\n",
        "\n",
        "[Testing the Manifold Hypothesis](https://arxiv.org/abs/1310.0425) by Charles Fefferman, Sanjoy Mitter, Hariharan Narayanan\n",
        "\n",
        "but don't know if anyone has actually tested the hypothesis on empirical data. possible undergraduate thesis topic here?\n",
        "\n",
        "`end side note`"
      ],
      "metadata": {
        "id": "t9Wbw07Zjis2"
      }
    },
    {
      "cell_type": "markdown",
      "metadata": {
        "id": "DcUmwSPTHskN"
      },
      "source": [
        "#### Interpolation as a source of generalization\n",
        "\n",
        "- if you have data points that can be interpolated, you can start making sense of points you've never seen before\n",
        "- you can relate new points to other points that lie close on the manifold\n",
        "- you can make sense of the totality of the space using only a sample of the space\n",
        "- you can use interpolation to fill in the blanks\n",
        "- interpolation on the latent manifold is different from linear interpolation in the parent space\n",
        "\n",
        "<img src=\"https://github.com/ambujtewari/stats315-winter2022/raw/main/images/manifold_interpolation.png\" width=\"500\">"
      ]
    },
    {
      "cell_type": "markdown",
      "metadata": {
        "id": "WZ78kQ9PHskN"
      },
      "source": [
        "#### Why deep learning works\n",
        "\n",
        "<img src=\"https://github.com/ambujtewari/stats315-winter2022/raw/main/images/why_deep_learning_works.png\" height=\"500\">"
      ]
    },
    {
      "cell_type": "markdown",
      "metadata": {
        "id": "KBJUpYhKHskN"
      },
      "source": [
        "#### Training data is paramount\n",
        "\n",
        "<img src=\"https://github.com/ambujtewari/stats315-winter2022/raw/main/images/training_data_paramount.png\" height=\"300\">\n",
        "\n",
        "- suppose getting more data isn't possible\n",
        "- the next best solution is to control model complexity\n",
        "- or to add constraints on the smoothness of the model curve\n",
        "- the process of fighting overfitting this way is called *regularization*\n",
        "- we will review regularization techniques soon\n",
        "- before you can start tweaking your model to help it generalize better, you'll need a way to assess how your model is currently doing\n",
        "- therefore we next look at _model evaluation_"
      ]
    },
    {
      "cell_type": "markdown",
      "metadata": {
        "id": "r4k2gfjAHskO"
      },
      "source": [
        "## Evaluating machine-learning models"
      ]
    },
    {
      "cell_type": "markdown",
      "metadata": {
        "id": "ul2JrZHMHskO"
      },
      "source": [
        "### Training, validation, and test sets\n",
        "\n",
        "\n",
        "- evaluating a model always boils down to splitting the available data into three sets: training, validation, and test\n",
        "- train on the training data and evaluate your model on the validation data\n",
        "- once your model is ready for prime time, you test it one final time on the test data, which is meant to be as similar as possible to production data\n",
        "- then you can deploy the model in production\n",
        "\n",
        "_Why not have two sets: a training set and a test set? You’d train on the training data and evaluate on the test data. Much simpler!_\n",
        "\n",
        "- developing a model always involves tuning its configuration:\n",
        "  - choosing the number of layers\n",
        "  - the size of the layers\n",
        "- these are called *hyperparameters* to distinguish them from the parameters (which are the network’s weights)\n",
        "- this tuning is done by using as a feedback signal the performance of the model on the validation data"
      ]
    },
    {
      "cell_type": "markdown",
      "metadata": {
        "id": "3t2jD0e1HskO"
      },
      "source": [
        "#### Simple hold-out validation\n",
        "\n",
        "<img src=\"https://github.com/ambujtewari/stats315-winter2022/raw/main/images/holdout_validation.png\" width=\"500\">"
      ]
    },
    {
      "cell_type": "markdown",
      "metadata": {
        "id": "E2KtzE85HskO"
      },
      "source": [
        "#### K-fold validation\n",
        "\n",
        "<img src=\"https://github.com/ambujtewari/stats315-winter2022/raw/main/images/K-fold_validation.png\" width=\"600\">"
      ]
    },
    {
      "cell_type": "markdown",
      "metadata": {
        "id": "SGHXUaDfHskO"
      },
      "source": [
        "#### Iterated K-fold validation with shuffling\n",
        "\n",
        "- this is for situations in which you have relatively little data available and you need to evaluate your model as precisely as possible\n",
        "- consists of applying K-fold validation multiple times\n",
        "- shuffle the data every time before splitting it `K` ways\n",
        "- final score is the average of the scores obtained at each run of K-fold validation\n",
        "- you end up training and evaluating `P * K` models (where `P` is the number of iterations you use), which can be very expensive."
      ]
    },
    {
      "cell_type": "markdown",
      "metadata": {
        "id": "LnoZjvEoHskO"
      },
      "source": [
        "### Beating a common-sense baseline\n",
        "\n",
        "Important to ensure yor trained network is doing better than some simple baseline\n",
        "\n",
        "- in the MNIST digit-classification example, a simple baseline would be a validation accuracy greater than 0.1 (random classifier)\n",
        "- in the IMDB example, it would be a validation accuracy greater than 0.5\n",
        "- **class imbalance**: you have a binary classification problem where 90% of samples belong to class A and 10% belong to class B\n",
        "  - a classifier that always predicts A already achieves 0.9 in validation accuracy\n",
        "  - you’ll need to do better than that"
      ]
    }
  ],
  "metadata": {
    "colab": {
      "provenance": []
    },
    "kernelspec": {
      "display_name": "Python 3",
      "language": "python",
      "name": "python3"
    },
    "language_info": {
      "codemirror_mode": {
        "name": "ipython",
        "version": 3
      },
      "file_extension": ".py",
      "mimetype": "text/x-python",
      "name": "python",
      "nbconvert_exporter": "python",
      "pygments_lexer": "ipython3",
      "version": "3.7.0"
    }
  },
  "nbformat": 4,
  "nbformat_minor": 0
}