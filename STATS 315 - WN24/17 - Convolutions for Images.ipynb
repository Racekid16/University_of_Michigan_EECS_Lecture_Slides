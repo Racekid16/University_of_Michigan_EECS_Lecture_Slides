{
  "cells": [
    {
      "cell_type": "markdown",
      "metadata": {
        "id": "cifup1gR3_QH"
      },
      "source": [
        "**Notebook credit**: Based on the original D2L notebook [here](https://github.com/d2l-ai/d2l-en-colab/blob/master/chapter_convolutional-neural-networks/conv-layer.ipynb).\n"
      ]
    },
    {
      "cell_type": "markdown",
      "metadata": {
        "origin_pos": 0,
        "id": "eF7pcCKb3_QL"
      },
      "source": [
        "# Convolutions for Images\n",
        "\n",
        "\n",
        "Now that we understand how convolutional layers work in theory,\n",
        "we are ready to see how they work in practice.\n",
        "Building on our motivation of convolutional neural networks\n",
        "as efficient architectures for exploring structure in image data,\n",
        "we stick with images as our running example.\n",
        "\n"
      ]
    },
    {
      "cell_type": "markdown",
      "source": [
        "\n",
        "## The Cross-Correlation Operation\n",
        "\n",
        "Recall that strictly speaking, convolutional layers\n",
        "are a  misnomer, since the operations they express\n",
        "are more accurately described as cross-correlations.\n",
        "Based on our descriptions of convolutional layers,\n",
        "in such a layer, an input tensor\n",
        "and a kernel tensor are combined\n",
        "to produce an output tensor through a (**cross-correlation operation.**)\n",
        "\n",
        "Let us ignore channels for now and see how this works\n",
        "with two-dimensional data and hidden representations.\n",
        "In the figure below,\n",
        "the input is a two-dimensional tensor\n",
        "with a height of 3 and width of 3.\n",
        "We mark the shape of the tensor as $3 \\times 3$ or ($3$, $3$).\n",
        "The height and width of the kernel are both 2.\n",
        "The shape of the *kernel window* (or *convolution window*)\n",
        "is given by the height and width of the kernel\n",
        "(here it is $2 \\times 2$).\n",
        "\n",
        "![Two-dimensional cross-correlation operation. The shaded portions are the first output element as well as the input and kernel tensor elements used for the output computation: $0\\times0+1\\times1+3\\times2+4\\times3=19$.](http://d2l.ai/_images/correlation.svg)\n",
        "\n",
        "\n",
        "In the two-dimensional cross-correlation operation,\n",
        "we begin with the convolution window positioned\n",
        "at the upper-left corner of the input tensor\n",
        "and slide it across the input tensor,\n",
        "both from left to right and top to bottom.\n",
        "When the convolution window slides to a certain position,\n",
        "the input subtensor contained in that window\n",
        "and the kernel tensor are multiplied elementwise\n",
        "and the resulting tensor is summed up\n",
        "yielding a single scalar value.\n",
        "This result gives the value of the output tensor\n",
        "at the corresponding location.\n",
        "Here, the output tensor has a height of 2 and width of 2\n",
        "and the four elements are derived from\n",
        "the two-dimensional cross-correlation operation:\n",
        "\n",
        "$$\n",
        "0\\times0+1\\times1+3\\times2+4\\times3=19,\\\\\n",
        "1\\times0+2\\times1+4\\times2+5\\times3=25,\\\\\n",
        "3\\times0+4\\times1+6\\times2+7\\times3=37,\\\\\n",
        "4\\times0+5\\times1+7\\times2+8\\times3=43.\n",
        "$$\n",
        "\n",
        "Note that along each axis, the output size\n",
        "is slightly smaller than the input size.\n",
        "Because the kernel has width and height greater than one,\n",
        "we can only properly compute the cross-correlation\n",
        "for locations where the kernel fits wholly within the image,\n",
        "the output size is given by the input size $n_h \\times n_w$\n",
        "minus the size of the convolution kernel $k_h \\times k_w$\n",
        "via\n",
        "\n",
        "$$(n_h-k_h+1) \\times (n_w-k_w+1).$$\n",
        "\n",
        "This is the case since we need enough space\n",
        "to \"shift\" the convolution kernel across the image.\n",
        "Later we will see how to keep the size unchanged\n",
        "by padding the image with zeros around its boundary\n",
        "so that there is enough space to shift the kernel.\n",
        "Next, we implement this process in the `corr2d` function,\n",
        "which accepts an input tensor `X` and a kernel tensor `K`\n",
        "and returns an output tensor `Y`.\n"
      ],
      "metadata": {
        "id": "atD7jf1N5ePF"
      }
    },
    {
      "cell_type": "code",
      "execution_count": null,
      "metadata": {
        "origin_pos": 1,
        "tab": [
          "mxnet"
        ],
        "id": "7R7baCJb3_QM"
      },
      "outputs": [],
      "source": [
        "import numpy as np\n",
        "import tensorflow as tf"
      ]
    },
    {
      "cell_type": "code",
      "execution_count": null,
      "metadata": {
        "origin_pos": 3,
        "tab": [
          "mxnet"
        ],
        "id": "IzbwCLp53_QN"
      },
      "outputs": [],
      "source": [
        "def corr2d(X, K):\n",
        "    \"\"\"Compute 2D cross-correlation.\"\"\"\n",
        "    h, w = K.shape\n",
        "    Y = tf.Variable(tf.zeros((X.shape[0] - h + 1, X.shape[1] - w + 1)))\n",
        "    for i in range(Y.shape[0]):\n",
        "        for j in range(Y.shape[1]):\n",
        "            Y[i, j].assign(tf.reduce_sum(\n",
        "                X[i: i + h, j: j + w] * K))\n",
        "    return Y"
      ]
    },
    {
      "cell_type": "markdown",
      "metadata": {
        "origin_pos": 5,
        "id": "aPFoNKgB3_QN"
      },
      "source": [
        "We can construct the input tensor `X` and the kernel tensor `K`\n",
        "from the figure above\n",
        "to **validate the output of the above implementation**\n",
        "of the two-dimensional cross-correlation operation.\n"
      ]
    },
    {
      "cell_type": "code",
      "execution_count": null,
      "metadata": {
        "origin_pos": 6,
        "tab": [
          "mxnet"
        ],
        "id": "kxgLLuQY3_QN",
        "outputId": "3d763104-58b2-40d0-cc2a-98dc533e5fb9",
        "colab": {
          "base_uri": "https://localhost:8080/"
        }
      },
      "outputs": [
        {
          "output_type": "execute_result",
          "data": {
            "text/plain": [
              "array([[19., 25.],\n",
              "       [37., 43.]], dtype=float32)"
            ]
          },
          "metadata": {},
          "execution_count": 3
        }
      ],
      "source": [
        "X = tf.constant([[0.0, 1.0, 2.0], [3.0, 4.0, 5.0], [6.0, 7.0, 8.0]])\n",
        "K = tf.constant([[0.0, 1.0], [2.0, 3.0]])\n",
        "corr2d(X, K).numpy()"
      ]
    },
    {
      "cell_type": "markdown",
      "metadata": {
        "origin_pos": 7,
        "id": "pYR8fpA13_QO"
      },
      "source": [
        "## Convolutional Layers\n",
        "\n",
        "A convolutional layer cross-correlates the input and kernel\n",
        "and adds a scalar bias to produce an output.\n",
        "The two parameters of a convolutional layer\n",
        "are the kernel and the scalar bias.\n",
        "When training models based on convolutional layers,\n",
        "we typically initialize the kernels randomly,\n",
        "just as we would with a fully-connected layer.\n",
        "\n",
        "We are now ready to **implement a two-dimensional convolutional layer**\n",
        "based on the `corr2d` function defined above.\n",
        "In the `build()` method,\n",
        "we set `weight` and `bias` as the two model parameters.\n",
        "The `call()` method\n",
        "calls the `corr2d` function and adds the bias.\n"
      ]
    },
    {
      "cell_type": "code",
      "execution_count": null,
      "metadata": {
        "origin_pos": 8,
        "tab": [
          "mxnet"
        ],
        "id": "rSgUOUPO3_QP"
      },
      "outputs": [],
      "source": [
        "class Conv2D(tf.keras.layers.Layer):\n",
        "    def __init__(self):\n",
        "        super().__init__()\n",
        "\n",
        "    def build(self, kernel_size):\n",
        "        initializer = tf.random_normal_initializer()\n",
        "        self.weight = self.add_weight(name='w', shape=kernel_size,\n",
        "                                      initializer=initializer)\n",
        "        self.bias = self.add_weight(name='b', shape=(1, ),\n",
        "                                    initializer=initializer)\n",
        "\n",
        "    def call(self, inputs):\n",
        "        return corr2d(inputs, self.weight) + self.bias"
      ]
    },
    {
      "cell_type": "markdown",
      "metadata": {
        "origin_pos": 11,
        "id": "UsRjcAKl3_QP"
      },
      "source": [
        "In\n",
        "$h \\times w$ convolution\n",
        "or a $h \\times w$ convolution kernel,\n",
        "the height and width of the convolution kernel are $h$ and $w$, respectively.\n",
        "We also refer to\n",
        "a convolutional layer with a $h \\times w$\n",
        "convolution kernel simply as a $h \\times w$ convolutional layer.\n",
        "\n",
        "\n",
        "## Object Edge Detection in Images\n",
        "\n",
        "Let us take a moment to parse [**a simple application of a convolutional layer:\n",
        "detecting the edge of an object in an image**]\n",
        "by finding the location of the pixel change.\n",
        "First, we construct an \"image\" of $6\\times 8$ pixels.\n",
        "The middle four columns are black (0) and the rest are white (1).\n"
      ]
    },
    {
      "cell_type": "code",
      "execution_count": null,
      "metadata": {
        "origin_pos": 12,
        "tab": [
          "mxnet"
        ],
        "id": "JKl4exag3_QP",
        "outputId": "e3ae21d2-3344-42ee-8a35-971627698100",
        "colab": {
          "base_uri": "https://localhost:8080/"
        }
      },
      "outputs": [
        {
          "output_type": "execute_result",
          "data": {
            "text/plain": [
              "array([[1., 1., 0., 0., 0., 0., 1., 1.],\n",
              "       [1., 1., 0., 0., 0., 0., 1., 1.],\n",
              "       [1., 1., 0., 0., 0., 0., 1., 1.],\n",
              "       [1., 1., 0., 0., 0., 0., 1., 1.],\n",
              "       [1., 1., 0., 0., 0., 0., 1., 1.],\n",
              "       [1., 1., 0., 0., 0., 0., 1., 1.]], dtype=float32)"
            ]
          },
          "metadata": {},
          "execution_count": 5
        }
      ],
      "source": [
        "X = tf.Variable(tf.ones((6, 8)))\n",
        "X[:, 2:6].assign(tf.zeros(X[:, 2:6].shape))\n",
        "X.numpy()"
      ]
    },
    {
      "cell_type": "code",
      "source": [
        "import matplotlib.pyplot as plt\n",
        "plt.imshow(tf.reshape(X, (6, 8)), cmap=\"gray\")\n",
        "plt.show()"
      ],
      "metadata": {
        "colab": {
          "base_uri": "https://localhost:8080/",
          "height": 430
        },
        "id": "Yr_fgR9uyNpY",
        "outputId": "bc16c32c-6394-47b8-e1fb-10dd30eea4ab"
      },
      "execution_count": null,
      "outputs": [
        {
          "output_type": "display_data",
          "data": {
            "text/plain": [
              "<Figure size 640x480 with 1 Axes>"
            ],
            "image/png": "[encoded data removed]"
          },
          "metadata": {}
        }
      ]
    },
    {
      "cell_type": "markdown",
      "metadata": {
        "origin_pos": 14,
        "id": "QOqtdGs33_QQ"
      },
      "source": [
        "Next, we construct a kernel `K` with a height of 1 and a width of 2.\n",
        "When we perform the cross-correlation operation with the input,\n",
        "if the horizontally adjacent elements are the same,\n",
        "the output is 0. Otherwise, the output is non-zero.\n"
      ]
    },
    {
      "cell_type": "code",
      "execution_count": null,
      "metadata": {
        "origin_pos": 15,
        "tab": [
          "mxnet"
        ],
        "id": "f1zaUw3z3_QQ"
      },
      "outputs": [],
      "source": [
        "K = tf.constant([[1.0, -1.0]])"
      ]
    },
    {
      "cell_type": "markdown",
      "metadata": {
        "origin_pos": 16,
        "id": "tplu2M573_QQ"
      },
      "source": [
        "We are ready to perform the cross-correlation operation\n",
        "with arguments `X` (our input) and `K` (our kernel).\n",
        "As you can see, **we detect 1 for the edge from white to black\n",
        "and -1 for the edge from black to white.**\n",
        "All other outputs take value 0.\n"
      ]
    },
    {
      "cell_type": "code",
      "execution_count": null,
      "metadata": {
        "origin_pos": 17,
        "tab": [
          "mxnet"
        ],
        "id": "L1nlE6uR3_QR",
        "outputId": "91dab6f5-4fb7-4836-b54b-4c04c28b4662",
        "colab": {
          "base_uri": "https://localhost:8080/"
        }
      },
      "outputs": [
        {
          "output_type": "execute_result",
          "data": {
            "text/plain": [
              "array([[ 0.,  1.,  0.,  0.,  0., -1.,  0.],\n",
              "       [ 0.,  1.,  0.,  0.,  0., -1.,  0.],\n",
              "       [ 0.,  1.,  0.,  0.,  0., -1.,  0.],\n",
              "       [ 0.,  1.,  0.,  0.,  0., -1.,  0.],\n",
              "       [ 0.,  1.,  0.,  0.,  0., -1.,  0.],\n",
              "       [ 0.,  1.,  0.,  0.,  0., -1.,  0.]], dtype=float32)"
            ]
          },
          "metadata": {},
          "execution_count": 8
        }
      ],
      "source": [
        "Y = corr2d(X, K)\n",
        "Y.numpy()"
      ]
    },
    {
      "cell_type": "code",
      "source": [
        "plt.imshow(tf.reshape(tf.abs(Y), (6, 7)), cmap = \"gray\")\n",
        "plt.show()"
      ],
      "metadata": {
        "colab": {
          "base_uri": "https://localhost:8080/",
          "height": 265
        },
        "id": "xIzZu0l9zGQF",
        "outputId": "b794fd3a-8cc0-4c09-c7e4-a7523b5bff07"
      },
      "execution_count": null,
      "outputs": [
        {
          "output_type": "display_data",
          "data": {
            "text/plain": [
              "<Figure size 432x288 with 1 Axes>"
            ],
            "image/png": "[encoded data removed]"
          },
          "metadata": {
            "needs_background": "light"
          }
        }
      ]
    },
    {
      "cell_type": "markdown",
      "metadata": {
        "origin_pos": 18,
        "id": "PgfwJEF43_QR"
      },
      "source": [
        "We can now apply the kernel to the transposed image.\n",
        "As expected, it vanishes. **The kernel `K` only detects vertical edges.**\n"
      ]
    },
    {
      "cell_type": "code",
      "source": [
        "plt.imshow(tf.reshape(tf.transpose(X), (8, 6)), cmap=\"gray\")\n",
        "plt.show()"
      ],
      "metadata": {
        "colab": {
          "base_uri": "https://localhost:8080/",
          "height": 265
        },
        "id": "gGt9CYmfcfpl",
        "outputId": "6d077c6f-82ee-41c3-8623-ee59f6acb47e"
      },
      "execution_count": null,
      "outputs": [
        {
          "output_type": "display_data",
          "data": {
            "text/plain": [
              "<Figure size 432x288 with 1 Axes>"
            ],
            "image/png": "[encoded data removed]"
          },
          "metadata": {
            "needs_background": "light"
          }
        }
      ]
    },
    {
      "cell_type": "code",
      "execution_count": null,
      "metadata": {
        "origin_pos": 19,
        "tab": [
          "mxnet"
        ],
        "id": "020DT5te3_QR",
        "outputId": "40f73aee-20c6-42a5-9c6d-a20744b401f2",
        "colab": {
          "base_uri": "https://localhost:8080/"
        }
      },
      "outputs": [
        {
          "output_type": "execute_result",
          "data": {
            "text/plain": [
              "array([[0., 0., 0., 0., 0.],\n",
              "       [0., 0., 0., 0., 0.],\n",
              "       [0., 0., 0., 0., 0.],\n",
              "       [0., 0., 0., 0., 0.],\n",
              "       [0., 0., 0., 0., 0.],\n",
              "       [0., 0., 0., 0., 0.],\n",
              "       [0., 0., 0., 0., 0.],\n",
              "       [0., 0., 0., 0., 0.]], dtype=float32)"
            ]
          },
          "metadata": {},
          "execution_count": 9
        }
      ],
      "source": [
        "Y2 = corr2d(tf.transpose(X), K)\n",
        "Y2.numpy()"
      ]
    },
    {
      "cell_type": "code",
      "source": [
        "plt.imshow(tf.reshape(tf.abs(Y2), (8, 5)), cmap = \"gray\")\n",
        "plt.show()"
      ],
      "metadata": {
        "colab": {
          "base_uri": "https://localhost:8080/",
          "height": 265
        },
        "id": "GUuvqWFtzuFe",
        "outputId": "d6b561d7-ede7-482c-ffe4-e3d518dec9f2"
      },
      "execution_count": null,
      "outputs": [
        {
          "output_type": "display_data",
          "data": {
            "text/plain": [
              "<Figure size 432x288 with 1 Axes>"
            ],
            "image/png": "[encoded data removed]"
          },
          "metadata": {
            "needs_background": "light"
          }
        }
      ]
    },
    {
      "cell_type": "markdown",
      "metadata": {
        "origin_pos": 20,
        "id": "H4zVPP-S3_QR"
      },
      "source": [
        "## Learning a Kernel\n",
        "\n",
        "Designing an edge detector by finite differences `[1, -1]` is neat\n",
        "if we know this is precisely what we are looking for.\n",
        "However, as we look at larger kernels,\n",
        "and consider successive layers of convolutions,\n",
        "it might be impossible to specify\n",
        "precisely what each filter should be doing manually.\n",
        "\n",
        "Now let us see whether we can **learn the kernel that generated `Y` from `X`**\n",
        "by looking at the input--output pairs only.\n",
        "We first construct a convolutional layer\n",
        "and initialize its kernel as a random tensor.\n",
        "Next, in each iteration, we will use the squared error\n",
        "to compare `Y` with the output of the convolutional layer.\n",
        "We can then calculate the gradient to update the kernel.\n",
        "For the sake of simplicity,\n",
        "in the following\n",
        "we use the built-in class\n",
        "for two-dimensional convolutional layers\n",
        "and ignore the bias.\n"
      ]
    },
    {
      "cell_type": "code",
      "execution_count": null,
      "metadata": {
        "origin_pos": 21,
        "tab": [
          "mxnet"
        ],
        "id": "-u_p84WV3_QR",
        "outputId": "88a9a9ee-c653-4137-b4e4-d7c1610613d3",
        "colab": {
          "base_uri": "https://localhost:8080/"
        }
      },
      "outputs": [
        {
          "output_type": "stream",
          "name": "stdout",
          "text": [
            "epoch 2, loss 7.194\n",
            "epoch 4, loss 2.360\n",
            "epoch 6, loss 0.787\n",
            "epoch 8, loss 0.263\n",
            "epoch 10, loss 0.088\n"
          ]
        }
      ],
      "source": [
        "# Construct a two-dimensional convolutional layer with 1 output channel and a\n",
        "# kernel of shape (1, 2). For the sake of simplicity, we ignore the bias here\n",
        "conv2d = tf.keras.layers.Conv2D(1, (1, 2), use_bias=False)\n",
        "\n",
        "# The two-dimensional convolutional layer uses four-dimensional input and\n",
        "# output in the format of (example, height, width, channel), where the batch\n",
        "# size (number of examples in the batch) and the number of channels are both 1\n",
        "X = tf.reshape(X, (1, 6, 8, 1))\n",
        "Y = tf.reshape(Y, (1, 6, 7, 1))\n",
        "lr = 2e-2  # Learning rate\n",
        "\n",
        "Y_hat = conv2d(X)\n",
        "for i in range(10):\n",
        "    with tf.GradientTape() as tape:\n",
        "        Y_hat = conv2d(X)\n",
        "        loss = tf.reduce_sum(tf.abs(Y_hat - Y) ** 2)\n",
        "        # Update the kernel\n",
        "        loss_gradient = tape.gradient(loss, conv2d.weights[0])\n",
        "        update = tf.multiply(lr, loss_gradient)\n",
        "        weights = conv2d.get_weights()\n",
        "        weights[0] = conv2d.weights[0] - update\n",
        "        conv2d.set_weights(weights)\n",
        "        if (i + 1) % 2 == 0:\n",
        "            print(f'epoch {i + 1}, loss {loss:.3f}')"
      ]
    },
    {
      "cell_type": "markdown",
      "metadata": {
        "origin_pos": 24,
        "id": "4DsH2KWz3_QS"
      },
      "source": [
        "Note that the error has dropped to a small value after 10 iterations. Now we will **take a look at the kernel tensor we learned.**\n"
      ]
    },
    {
      "cell_type": "code",
      "execution_count": null,
      "metadata": {
        "origin_pos": 25,
        "tab": [
          "mxnet"
        ],
        "id": "AJavowTM3_QS",
        "outputId": "9d29780e-9a7f-4141-a61c-e8c29d758cc2",
        "colab": {
          "base_uri": "https://localhost:8080/"
        }
      },
      "outputs": [
        {
          "output_type": "execute_result",
          "data": {
            "text/plain": [
              "array([[ 0.9350534, -0.9350534]], dtype=float32)"
            ]
          },
          "metadata": {},
          "execution_count": 13
        }
      ],
      "source": [
        "tf.reshape(conv2d.get_weights()[0], (1, 2)).numpy()"
      ]
    },
    {
      "cell_type": "markdown",
      "metadata": {
        "origin_pos": 28,
        "id": "MHVae6SF3_QS"
      },
      "source": [
        "Indeed, the learned kernel tensor is remarkably close\n",
        "to the kernel tensor `K` we defined earlier.\n"
      ]
    },
    {
      "cell_type": "markdown",
      "source": [
        "\n",
        "## Cross-Correlation and Convolution\n",
        "\n",
        "Recall our earlier observation of the correspondence\n",
        "between the cross-correlation and convolution operations.\n",
        "Here let us continue to consider two-dimensional convolutional layers.\n",
        "What if such layers\n",
        "perform strict convolution operations\n",
        "instead of cross-correlations?\n",
        "In order to obtain the output of the strict *convolution* operation, we only need to flip the two-dimensional kernel tensor both horizontally and vertically, and then perform the *cross-correlation* operation with the input tensor.\n",
        "\n",
        "It is noteworthy that since kernels are learned from data in deep learning,\n",
        "the outputs of convolutional layers remain unaffected\n",
        "no matter such layers\n",
        "perform\n",
        "either the strict convolution operations\n",
        "or the cross-correlation operations.\n",
        "\n",
        "To illustrate this, suppose that a convolutional layer performs *cross-correlation* and learns the kernel in the first figure above, which is denoted as the matrix $\\mathbf{K}$ here.\n",
        "Assuming that other conditions remain unchanged,\n",
        "when this layer performs strict *convolution* instead,\n",
        "the learned kernel $\\mathbf{K}'$ will be the same as $\\mathbf{K}$\n",
        "after $\\mathbf{K}'$ is\n",
        "flipped both horizontally and vertically.\n",
        "That is to say,\n",
        "when the convolutional layer\n",
        "performs strict *convolution*\n",
        "for the input in the figure\n",
        "and $\\mathbf{K}'$,\n",
        "the same output in the figure\n",
        "(cross-correlation of the input and $\\mathbf{K}$)\n",
        "will be obtained.\n",
        "\n",
        "In keeping with standard terminology with deep learning literature,\n",
        "we will continue to refer to the cross-correlation operation\n",
        "as a convolution even though, strictly-speaking, it is slightly different.\n",
        "Besides,\n",
        "we use the term *element* to refer to\n",
        "an entry (or component) of any tensor representing a layer representation or a convolution kernel.\n",
        "\n"
      ],
      "metadata": {
        "id": "ObvRga0X8_66"
      }
    },
    {
      "cell_type": "markdown",
      "source": [
        "\n",
        "## Feature Map and Receptive Field\n",
        "\n",
        "![Two-dimensional cross-correlation operation. The shaded portions are the first output element as well as the input and kernel tensor elements used for the output computation: $0\\times0+1\\times1+3\\times2+4\\times3=19$.](http://d2l.ai/_images/correlation.svg)\n",
        "\n",
        "The convolutional layer output in\n",
        "the figure above\n",
        "is sometimes called a *feature map*,\n",
        "as it can be regarded as\n",
        "the learned representations (features)\n",
        "in the spatial dimensions (e.g., width and height)\n",
        "to the subsequent layer.\n",
        "In CNNs,\n",
        "for any element $x$ of some layer,\n",
        "its *receptive field* refers to\n",
        "all the elements (from all the previous layers)\n",
        "that may affect the calculation of $x$\n",
        "during the forward propagation.\n",
        "Note that the receptive field\n",
        "may be larger than the actual size of the input.\n",
        "\n",
        "Let us continue to use the figure above to explain the receptive field.\n",
        "Given the $2 \\times 2$ convolution kernel,\n",
        "the receptive field of the shaded output element (of value $19$)\n",
        "is\n",
        "the four elements in the shaded portion of the input.\n",
        "Now let us denote the $2 \\times 2$\n",
        "output as $\\mathbf{Y}$\n",
        "and consider a deeper CNN\n",
        "with an additional $2 \\times 2$ convolutional layer that takes $\\mathbf{Y}$\n",
        "as its input, outputting\n",
        "a single element $z$.\n",
        "In this case,\n",
        "the receptive field of $z$\n",
        "on $\\mathbf{Y}$ includes all the four elements of $\\mathbf{Y}$,\n",
        "while\n",
        "the receptive field\n",
        "on the input includes all the nine input elements.\n",
        "Thus,\n",
        "when any element in a feature map\n",
        "needs a larger receptive field\n",
        "to detect input features over a broader area,\n",
        "we can build a deeper network.\n",
        "\n",
        "\n"
      ],
      "metadata": {
        "id": "xZHVj5Tk89Kq"
      }
    },
    {
      "cell_type": "markdown",
      "source": [
        "\n",
        "\n",
        "## Summary\n",
        "\n",
        "* The core computation of a two-dimensional convolutional layer is a two-dimensional cross-correlation operation. In its simplest form, this performs a cross-correlation operation on the two-dimensional input data and the kernel, and then adds a bias.\n",
        "* We can design a kernel to detect edges in images.\n",
        "* We can learn the kernel's parameters from data.\n",
        "* With kernels learned from data, the outputs of convolutional layers remain unaffected regardless of such layers' performed operations (either strict convolution or cross-correlation).\n",
        "* When any element in a feature map needs a larger receptive field to detect broader features on the input, a deeper network can be considered.\n",
        "\n",
        "\n"
      ],
      "metadata": {
        "id": "4LtRuV9z85Sx"
      }
    }
  ],
  "metadata": {
    "kernelspec": {
      "display_name": "Python 3",
      "name": "python3"
    },
    "language_info": {
      "name": "python"
    },
    "colab": {
      "provenance": []
    }
  },
  "nbformat": 4,
  "nbformat_minor": 0
}